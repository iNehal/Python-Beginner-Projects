{
  "nbformat": 4,
  "nbformat_minor": 0,
  "metadata": {
    "colab": {
      "provenance": []
    },
    "kernelspec": {
      "name": "python3",
      "display_name": "Python 3"
    },
    "language_info": {
      "name": "python"
    }
  },
  "cells": [
    {
      "cell_type": "markdown",
      "source": [
        "Simple Calculator"
      ],
      "metadata": {
        "id": "peL2ZIXUM8os"
      }
    },
    {
      "cell_type": "code",
      "execution_count": null,
      "metadata": {
        "colab": {
          "base_uri": "https://localhost:8080/"
        },
        "id": "iBDqa6NcHqdc",
        "outputId": "81ecd300-cd44-4bcc-b276-c1d4a12b8405"
      },
      "outputs": [
        {
          "output_type": "stream",
          "name": "stdout",
          "text": [
            "Welcome to the simple calculator\n",
            "Select operation:\n",
            "1. Add\n",
            "2. Subtract\n",
            "3. Multiply\n",
            "4. Divide\n",
            "Enter choice (1/2/3/4): 8\n",
            "Invalid input\n"
          ]
        }
      ],
      "source": [
        "def add(x,y):\n",
        "  return x+y\n",
        "\n",
        "def subtract(x,y):\n",
        "  return x-y\n",
        "\n",
        "def multiply(x,y):\n",
        "  return x*y\n",
        "\n",
        "def divide(x,y):\n",
        "  if y == 0:\n",
        "    return \"Cannot divide by zero\"\n",
        "  else:\n",
        "    return x/y\n",
        "\n",
        "def calculator():\n",
        "  print('Welcome to the simple calculator')\n",
        "  print(\"Select operation:\")\n",
        "  print(\"1. Add\")\n",
        "  print(\"2. Subtract\")\n",
        "  print(\"3. Multiply\")\n",
        "  print(\"4. Divide\")\n",
        "\n",
        "  choice = input(\"Enter choice (1/2/3/4): \")\n",
        "\n",
        "  if choice in ('1','2','3','4'):\n",
        "    num1=float(input('Enter fist no.: '))\n",
        "    num2=float(input('Enter second no.: '))\n",
        "\n",
        "    if choice=='1':\n",
        "      print(add(num1,num2))\n",
        "    elif choice=='2':\n",
        "      print(subtract(num1,num2))\n",
        "    elif choice=='3':\n",
        "      print(multiply(num1,num2))\n",
        "    elif choice=='4':\n",
        "      print(divide(num1,num2))\n",
        "  else:\n",
        "    print('Invalid input')\n",
        "\n",
        "calculator()\n"
      ]
    },
    {
      "cell_type": "markdown",
      "source": [
        "Prime Number Checker"
      ],
      "metadata": {
        "id": "AWMfpzmYNHLm"
      }
    },
    {
      "cell_type": "code",
      "source": [
        "def is_prime(n):\n",
        "  if n<=1:\n",
        "    return False\n",
        "  for i in range(2,int(n**0.5)+1):\n",
        "    if n%i==0:\n",
        "      return False\n",
        "  return True\n",
        "\n",
        "num=int(input('Enter any number to check if it is prime or not: '))\n",
        "if is_prime(num):\n",
        "  print(f'{num} is a prime no.')\n",
        "else:\n",
        "  print(f'{num} is not a prime no.')"
      ],
      "metadata": {
        "colab": {
          "base_uri": "https://localhost:8080/"
        },
        "id": "krVNKKk_NK7T",
        "outputId": "4b16aa9b-3df8-4604-c0e8-aec7db8d0839"
      },
      "execution_count": null,
      "outputs": [
        {
          "output_type": "stream",
          "name": "stdout",
          "text": [
            "Enter any number to check if it is prime or not: 100\n",
            "100 is not a prime no.\n"
          ]
        }
      ]
    },
    {
      "cell_type": "markdown",
      "source": [
        "Fibonacci Sequence Generator"
      ],
      "metadata": {
        "id": "pG-IfM6mCdh4"
      }
    },
    {
      "cell_type": "code",
      "source": [
        "def fibonacci(n):\n",
        "  if n<=0:\n",
        "    return 'Please enter positive no.'\n",
        "  elif n==1:\n",
        "    return [0]\n",
        "  else:\n",
        "    fib_sequence=[0,1]\n",
        "    while len(fib_sequence)<n:\n",
        "      next_number=fib_sequence[-1]+fib_sequence[-2]\n",
        "      fib_sequence.append(next_number)\n",
        "    return fib_sequence\n",
        "\n",
        "num=int(input('Enter the number of terms for the Fibonacci sequence: '))\n",
        "print(fibonacci(num))"
      ],
      "metadata": {
        "colab": {
          "base_uri": "https://localhost:8080/"
        },
        "id": "uYyh3jsDCg7e",
        "outputId": "cfb69490-7c61-4bfd-b47f-e3e68dd90fb7"
      },
      "execution_count": 2,
      "outputs": [
        {
          "output_type": "stream",
          "name": "stdout",
          "text": [
            "Enter the number of terms for the Fibonacci sequence: 6\n",
            "[0, 1, 1, 2, 3, 5]\n"
          ]
        }
      ]
    },
    {
      "cell_type": "markdown",
      "source": [
        "BMI Calculator"
      ],
      "metadata": {
        "id": "g89Q2p4gb_Dx"
      }
    },
    {
      "cell_type": "code",
      "source": [
        "def calculate_bmi(weight,height):\n",
        "  bmi=weight/(height**2)\n",
        "  return round(bmi,2)\n",
        "\n",
        "def bmi_category(bmi):\n",
        "  if bmi<18.5:\n",
        "    return 'Underweight'\n",
        "  elif 18.5<=bmi<24.9:\n",
        "    return 'Normal weight'\n",
        "  elif 25<=bmi<29.9:\n",
        "    return 'Overweight'\n",
        "  else:\n",
        "    return 'Obese'\n",
        "\n",
        "def main():\n",
        "  try:\n",
        "    print('Welcome to the BMI Calculator')\n",
        "    weight=float(input('Enter your weight in kg: '))\n",
        "    height=float(input('Enter your height in meters: '))\n",
        "\n",
        "    bmi=calculate_bmi(weight,height)\n",
        "    print(f'Your BMI is: {bmi}')\n",
        "\n",
        "    category=bmi_category(bmi)\n",
        "    print(f'Your BMI category is: {category}')\n",
        "\n",
        "  except ValueError:\n",
        "    print('Invalid input. Please enter valid numbers.')\n",
        "\n",
        "main()"
      ],
      "metadata": {
        "colab": {
          "base_uri": "https://localhost:8080/"
        },
        "id": "F-GaE9a6cBIX",
        "outputId": "059b4c72-eede-4c8d-9bd8-239eda79e7dc"
      },
      "execution_count": null,
      "outputs": [
        {
          "output_type": "stream",
          "name": "stdout",
          "text": [
            "Welcome to the BMI Calculator\n",
            "Enter your weight in kg: 70\n",
            "Enter your height in meters: 1.80\n",
            "Your BMI is: 21.6\n",
            "Your BMI category is: Normal weight\n"
          ]
        }
      ]
    },
    {
      "cell_type": "markdown",
      "source": [
        "Unit Converter"
      ],
      "metadata": {
        "id": "xlf6ggxmnsr4"
      }
    },
    {
      "cell_type": "code",
      "source": [
        "def length(value,from_unit,to_unit):\n",
        "  length_units={\n",
        "      'meters': 1.0,\n",
        "      'kilometers': 0.001,\n",
        "      'centimeters': 100.0,\n",
        "      'millimeters': 1000.0,\n",
        "      'feet': 3.28084,\n",
        "      'inches': 39.3701,\n",
        "      'miles': 0.000621371,\n",
        "  }\n",
        "  if from_unit not in length_units or to_unit not in length_units:\n",
        "    return 'Invalid Unit'\n",
        "  else:\n",
        "    cnvrtd_value=value*length_units[to_unit]/length_units[from_unit]\n",
        "    return cnvrtd_value\n",
        "\n",
        "def weight(value,from_unit,to_unit):\n",
        "  weight_units={\n",
        "      'kilograms': 1.0,\n",
        "      'grams': 1000.0,\n",
        "      'milligrams': 1000000.0,\n",
        "      'pounds': 2.20462,\n",
        "      'ounces': 35.274,\n",
        "  }\n",
        "  if from_unit not in weight_units or to_unit not in weight_units:\n",
        "    return 'Invalid Unit'\n",
        "  else:\n",
        "    cnvrtd_value=value*weight_units[to_unit]/weight_units[from_unit]\n",
        "    return cnvrtd_value\n",
        "\n",
        "def temperature(value,from_unit,to_unit):\n",
        "  if from_unit==to_unit:\n",
        "    return value\n",
        "  elif from_unit=='celsius' and to_unit=='fahrenheit':\n",
        "    cnvrtd_value=(value*9/5)+32\n",
        "  elif from_unit=='fahrenheit' and to_unit=='celsius':\n",
        "    cnvrtd_value=(value-32)*5/9\n",
        "  elif from_unit=='celsius' and to_unit=='kelvin':\n",
        "    cnvrtd_value=value+273.15\n",
        "  elif from_unit=='kelvin' and to_unit=='celsius':\n",
        "    cnvrtd_value=value-273.15\n",
        "  elif from_unit=='fahrenheit' and to_unit=='kelvin':\n",
        "    cnvrtd_value=(value-32)*5/9+273.15\n",
        "  elif from_unit=='kelvin' and to_unit=='fahrenheit':\n",
        "    cnvrtd_value=(value-273.15)*9/5+32\n",
        "  else:\n",
        "    return 'Invalid Unit'\n",
        "  return cnvrtd_value\n",
        "\n",
        "def main():\n",
        "  print('Welcome to the Unit Converter')\n",
        "  print('1. Length')\n",
        "  print('2. Weight')\n",
        "  print('3. Temperature')\n",
        "  choice=input('Enter your choice (1/2/3): ')\n",
        "\n",
        "  if choice in ('1','2','3'):\n",
        "    value=float(input('Enter the value to convert: '))\n",
        "    from_unit=input('Enter the unit to convert from: ').lower()\n",
        "    to_unit=input('Enter the unit to convert to: ').lower()\n",
        "\n",
        "  if choice=='1':\n",
        "    cnvrtd_value=length(value,from_unit,to_unit)\n",
        "    if isinstance(cnvrtd_value,str):\n",
        "      print(cnvrtd_value)\n",
        "    else:\n",
        "      print(f'{value} {from_unit} is equal to {cnvrtd_value:.2f} {to_unit}')\n",
        "\n",
        "  elif choice=='2':\n",
        "    cnvrtd_value=weight(value,from_unit,to_unit)\n",
        "    if isinstance(cnvrtd_value,str):\n",
        "      print(cnvrtd_value)\n",
        "    else:\n",
        "      print(f'{value} {from_unit} is equal to {cnvrtd_value:.2f} {to_unit}')\n",
        "\n",
        "  elif choice=='3':\n",
        "    cnvrtd_value=temperature(value,from_unit,to_unit)\n",
        "    if isinstance(cnvrtd_value,str):\n",
        "      print(cnvrtd_value)\n",
        "    else:\n",
        "      print(f'{value} {from_unit} is equal to {cnvrtd_value:.2f} {to_unit}')\n",
        "\n",
        "  else:\n",
        "    print('Invalid choice! Please select a valid conversion type.')\n",
        "\n",
        "main()"
      ],
      "metadata": {
        "colab": {
          "base_uri": "https://localhost:8080/"
        },
        "id": "znjNE8TEf7LP",
        "outputId": "dafc32f0-9ed8-45f5-f19d-4015cf0693c9"
      },
      "execution_count": null,
      "outputs": [
        {
          "output_type": "stream",
          "name": "stdout",
          "text": [
            "Welcome to the Unit Converter\n",
            "1. Length\n",
            "2. Weight\n",
            "3. Temperature\n",
            "Enter your choice (1/2/3): 1\n",
            "Enter the value to convert: 10\n",
            "Enter the unit to convert from: yards\n",
            "Enter the unit to convert to: yards\n",
            "Invalid Unit\n"
          ]
        }
      ]
    },
    {
      "cell_type": "markdown",
      "source": [
        "Password Generator"
      ],
      "metadata": {
        "id": "n-FpZGgY1Wo-"
      }
    },
    {
      "cell_type": "code",
      "source": [
        "import random\n",
        "import string\n",
        "\n",
        "def generate_password(length,include_uppercase=True,include_digits=True,include_special_chars=True):\n",
        "  characters=string.ascii_lowercase\n",
        "  if include_uppercase:\n",
        "    characters+=string.ascii_uppercase\n",
        "  if include_digits:\n",
        "    characters+=string.digits\n",
        "  if include_special_chars:\n",
        "    characters+=string.punctuation\n",
        "  if not characters:\n",
        "    return 'No character types selected'\n",
        "  password=''.join(random.choice(characters) for _ in range(length))\n",
        "  return password\n",
        "\n",
        "def main():\n",
        "  print('Welcome to the Password Generator')\n",
        "  while True:\n",
        "    try:\n",
        "      length=int(input('Enter the desired password length: '))\n",
        "      if length<=0:\n",
        "        print('Password length should be a positive integer.')\n",
        "      else:\n",
        "        break\n",
        "    except ValueError:\n",
        "      print('Invalid input. Please enter a positive integer.')\n",
        "  include_uppercase=input('Include uppercase letters? (yes/no): ').lower()=='yes'\n",
        "  include_digits=input('Include digits? (yes/no): ').lower()=='yes'\n",
        "  include_special_chars=input('Include special characters? (yes/no): ').lower()=='yes'\n",
        "\n",
        "  password=generate_password(length,include_uppercase,include_digits,include_special_chars)\n",
        "  print(f'Generated Password: {password}')\n",
        "\n",
        "main()"
      ],
      "metadata": {
        "colab": {
          "base_uri": "https://localhost:8080/"
        },
        "id": "0rlT49ajxb_X",
        "outputId": "960d34fc-16c8-43f0-bce7-46e6bb3b1b29"
      },
      "execution_count": null,
      "outputs": [
        {
          "output_type": "stream",
          "name": "stdout",
          "text": [
            "Welcome to the Password Generator\n",
            "Enter the desired password length: 0\n",
            "Password length should be a positive integer.\n",
            "Enter the desired password length: -8\n",
            "Password length should be a positive integer.\n",
            "Enter the desired password length: 6\n",
            "Include uppercase letters? (yes/no): no\n",
            "Include digits? (yes/no): no\n",
            "Include special characters? (yes/no): yes\n",
            "Generated Password: s-~j>r\n"
          ]
        }
      ]
    },
    {
      "cell_type": "markdown",
      "source": [
        "Number Guessing Game"
      ],
      "metadata": {
        "id": "-3kmsOD8gd1V"
      }
    },
    {
      "cell_type": "code",
      "source": [
        "import random\n",
        "\n",
        "def number_guess_game():\n",
        "  guess_num=random.randint(1,100)\n",
        "  attempts=0\n",
        "\n",
        "  print('Welcome to the Number Guessing Game!')\n",
        "  print('I have selected a number between 1 and 100. Try to guess it.')\n",
        "\n",
        "  while True:\n",
        "    try:\n",
        "      user_guess=int(input('Enter your guess: '))\n",
        "      attempts+=1\n",
        "\n",
        "      if user_guess<1 or user_guess>100:\n",
        "        print('Please enter a number between 1 to 100')\n",
        "        continue\n",
        "\n",
        "      if user_guess<guess_num:\n",
        "        print('Too low! Try again.')\n",
        "      elif user_guess>guess_num:\n",
        "        print('Too high! Try again.')\n",
        "      else:\n",
        "        print(f'Congratulations! You guessed the number {guess_num} in {attempts} attempts')\n",
        "        break\n",
        "    except ValueError:\n",
        "      print('Invalid input. Please enter a valid number')\n",
        "\n",
        "number_guess_game()"
      ],
      "metadata": {
        "id": "DG5P1agb6uwd",
        "colab": {
          "base_uri": "https://localhost:8080/"
        },
        "outputId": "ec549bdc-7de8-4484-c60f-6ae54cf20b74"
      },
      "execution_count": 2,
      "outputs": [
        {
          "output_type": "stream",
          "name": "stdout",
          "text": [
            "Welcome to the Number Guessing Game!\n",
            "I have selected a number between 1 and 100. Try to guess it.\n",
            "Enter your guess: 5\n",
            "Too low! Try again.\n",
            "Enter your guess: 7\n",
            "Too low! Try again.\n",
            "Enter your guess: 8\n",
            "Too low! Try again.\n",
            "Enter your guess: 10\n",
            "Too low! Try again.\n",
            "Enter your guess: 20\n",
            "Too low! Try again.\n",
            "Enter your guess: 50\n",
            "Too low! Try again.\n",
            "Enter your guess: 100\n",
            "Too high! Try again.\n",
            "Enter your guess: 90\n",
            "Too high! Try again.\n",
            "Enter your guess: 80\n",
            "Too high! Try again.\n",
            "Enter your guess: 70\n",
            "Too high! Try again.\n",
            "Enter your guess: 60\n",
            "Too high! Try again.\n",
            "Enter your guess: 55\n",
            "Too high! Try again.\n",
            "Enter your guess: 53\n",
            "Too low! Try again.\n",
            "Enter your guess: 54\n",
            "Congratulations! You guessed the number 54 in 14 attempts\n"
          ]
        }
      ]
    },
    {
      "cell_type": "markdown",
      "source": [
        "Rock, Paper, Scissors Game"
      ],
      "metadata": {
        "id": "BAg6PxZGkrnj"
      }
    },
    {
      "cell_type": "code",
      "source": [
        "import random\n",
        "\n",
        "def get_user_choice():\n",
        "  choices=['rock','paper','scissors']\n",
        "  user_choice=input('Enter your choice (rock,paper,scissors): ').lower()\n",
        "  while user_choice not in choices:\n",
        "    print('Invalid Choice. Please choose from rock,paper,scissors')\n",
        "  return user_choice\n",
        "\n",
        "def get_computer_choice():\n",
        "  choices=['rock','paper','scissors']\n",
        "  return random.choice(choices)\n",
        "\n",
        "def determine_winner(user_choice,computer_choice):\n",
        "  if user_choice==computer_choice:\n",
        "    return 'It is a tie!'\n",
        "  elif (user_choice=='rock' and computer_choice=='scissors') or \\\n",
        "       (user_choice=='paper' and computer_choice=='rock') or \\\n",
        "       (user_choice=='scissors' and computer_choice=='paper'):\n",
        "    return 'You win!'\n",
        "  else:\n",
        "    return 'Computer wins!'\n",
        "\n",
        "def play_game():\n",
        "  print('Welcome to the Rock, Paper, Scissors Game')\n",
        "  while True:\n",
        "    user_choice=get_user_choice()\n",
        "    computer_choice=get_computer_choice()\n",
        "    print(f'You choose {user_choice}')\n",
        "    print(f'Computer chooses {computer_choice}')\n",
        "    result=determine_winner(user_choice,computer_choice)\n",
        "    print(result)\n",
        "    play_again=input('Do you want to play again? (yes/no): ').lower()\n",
        "    if play_again!='yes':\n",
        "      print('Thanks for playing! Goodbye!')\n",
        "      break\n",
        "\n",
        "play_game()"
      ],
      "metadata": {
        "colab": {
          "base_uri": "https://localhost:8080/"
        },
        "id": "k_L9Sr66kj_-",
        "outputId": "a6f6d130-1086-478d-b4e7-0253e97ed6a6"
      },
      "execution_count": 6,
      "outputs": [
        {
          "output_type": "stream",
          "name": "stdout",
          "text": [
            "Welcome to the Rock, Paper, Scissors Game\n",
            "Enter your choice (rock,paper,scissors): rock\n",
            "You choose rock\n",
            "Computer chooses rock\n",
            "It is a tie!\n",
            "Do you want to play again? (yes/no): no\n",
            "Thanks for playing! Goodbye!\n"
          ]
        }
      ]
    },
    {
      "cell_type": "code",
      "source": [],
      "metadata": {
        "id": "Fk9-1Dv5pfZH"
      },
      "execution_count": null,
      "outputs": []
    }
  ]
}